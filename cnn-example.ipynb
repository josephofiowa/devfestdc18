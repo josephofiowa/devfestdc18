{
 "cells": [
  {
   "cell_type": "markdown",
   "metadata": {
    "colab_type": "text",
    "id": "1Y7CtKLNA2zS"
   },
   "source": [
    "# Convolutional Neural Network with TensorFlow/Keras\n",
    "## Classifying Articles of Clothing\n",
    "\n",
    "Convolutional neural network example: classifying \"Fashion MNIST\": a dataset of 70,000 images from 10 clothing categories:\n",
    "- t-shirts\n",
    "- trousers\n",
    "- pullovers\n",
    "- dresses\n",
    "- coats\n",
    "- sandals\n",
    "- shirts\n",
    "- sneakers\n",
    "- bags\n",
    "- ankle boots\n",
    "\n",
    "![fashion mnist](https://github.com/zalandoresearch/fashion-mnist/raw/master/doc/img/fashion-mnist-sprite.png \"Fashion MNIST\")\n",
    "\n",
    "https://github.com/zalandoresearch/fashion-mnist\n"
   ]
  },
  {
   "cell_type": "markdown",
   "metadata": {
    "colab_type": "text",
    "id": "9a7QP20loLLo"
   },
   "source": [
    "### 1. Loading libraries"
   ]
  },
  {
   "cell_type": "code",
   "execution_count": 7,
   "metadata": {},
   "outputs": [
    {
     "data": {
      "text/plain": [
       "'1.8.0'"
      ]
     },
     "execution_count": 7,
     "metadata": {},
     "output_type": "execute_result"
    }
   ],
   "source": [
    "tf.__version__"
   ]
  },
  {
   "cell_type": "code",
   "execution_count": 9,
   "metadata": {
    "colab": {
     "autoexec": {
      "startup": false,
      "wait_interval": 0
     },
     "base_uri": "https://localhost:8080/",
     "height": 34
    },
    "colab_type": "code",
    "executionInfo": {
     "elapsed": 7469,
     "status": "ok",
     "timestamp": 1527800852950,
     "user": {
      "displayName": "Alim Kumykov",
      "photoUrl": "//lh6.googleusercontent.com/-tCgcSerKYSs/AAAAAAAAAAI/AAAAAAAAAWo/FvjEn4POhDg/s50-c-k-no/photo.jpg",
      "userId": "110419530416477018311"
     },
     "user_tz": 240
    },
    "id": "6QXy4fMP3pec",
    "outputId": "957162ca-a8b4-489f-c7fa-f92d270a7dbf"
   },
   "outputs": [
    {
     "name": "stderr",
     "output_type": "stream",
     "text": [
      "Using TensorFlow backend.\n"
     ]
    }
   ],
   "source": [
    "import numpy as np\n",
    "import os\n",
    "import pandas as pd\n",
    "import tensorflow as tf\n",
    "import matplotlib.pyplot as plt\n",
    "from tensorflow.examples.tutorials.mnist import input_data\n",
    "from sklearn.model_selection import train_test_split\n",
    "from keras.callbacks import ModelCheckpoint\n",
    "import time"
   ]
  },
  {
   "cell_type": "markdown",
   "metadata": {
    "colab_type": "text",
    "id": "F5rVMQGioPkj"
   },
   "source": [
    "### 2. Downloading the data"
   ]
  },
  {
   "cell_type": "code",
   "execution_count": 10,
   "metadata": {
    "colab": {
     "autoexec": {
      "startup": false,
      "wait_interval": 0
     }
    },
    "colab_type": "code",
    "id": "EPs5mf5Ioz6i"
   },
   "outputs": [
    {
     "name": "stdout",
     "output_type": "stream",
     "text": [
      "Downloading data from http://fashion-mnist.s3-website.eu-central-1.amazonaws.com/train-labels-idx1-ubyte.gz\n",
      "32768/29515 [=================================] - 0s 3us/step\n",
      "Downloading data from http://fashion-mnist.s3-website.eu-central-1.amazonaws.com/train-images-idx3-ubyte.gz\n",
      "26427392/26421880 [==============================] - 7s 0us/step\n",
      "Downloading data from http://fashion-mnist.s3-website.eu-central-1.amazonaws.com/t10k-labels-idx1-ubyte.gz\n",
      "8192/5148 [===============================================] - 0s 0us/step\n",
      "Downloading data from http://fashion-mnist.s3-website.eu-central-1.amazonaws.com/t10k-images-idx3-ubyte.gz\n",
      "4423680/4422102 [==============================] - 3s 1us/step\n"
     ]
    }
   ],
   "source": [
    "# Load the fashion-mnist pre-shuffled train data and test data\n",
    "(x_train, y_train), (x_test, y_test) = tf.keras.datasets.fashion_mnist.load_data()"
   ]
  },
  {
   "cell_type": "markdown",
   "metadata": {
    "colab_type": "text",
    "id": "pGmOy8_hs-g7"
   },
   "source": [
    "### 3. Checking the data"
   ]
  },
  {
   "cell_type": "code",
   "execution_count": 11,
   "metadata": {
    "colab": {
     "autoexec": {
      "startup": false,
      "wait_interval": 0
     },
     "base_uri": "https://localhost:8080/",
     "height": 50
    },
    "colab_type": "code",
    "executionInfo": {
     "elapsed": 267,
     "status": "ok",
     "timestamp": 1527800854203,
     "user": {
      "displayName": "Alim Kumykov",
      "photoUrl": "//lh6.googleusercontent.com/-tCgcSerKYSs/AAAAAAAAAAI/AAAAAAAAAWo/FvjEn4POhDg/s50-c-k-no/photo.jpg",
      "userId": "110419530416477018311"
     },
     "user_tz": 240
    },
    "id": "AAAC-FRgywdJ",
    "outputId": "e759f04c-83f5-4fda-f227-8940d3488149"
   },
   "outputs": [
    {
     "name": "stdout",
     "output_type": "stream",
     "text": [
      "x_train: Train Data - (60000, 28, 28) - <class 'numpy.ndarray'>\n",
      "y_train: Train Labels - (60000,) - <class 'numpy.ndarray'>\n"
     ]
    }
   ],
   "source": [
    "# Training set shape - 60,000 training data of image size of 28x28 and 60,000 train labels\n",
    "print ('x_train: Train Data - ' + str(x_train.shape) + \" - \" + str(type(x_train)))\n",
    "print ('y_train: Train Labels - ' + str(y_train.shape) + \" - \" + str(type(y_train)))"
   ]
  },
  {
   "cell_type": "code",
   "execution_count": 12,
   "metadata": {
    "colab": {
     "autoexec": {
      "startup": false,
      "wait_interval": 0
     },
     "base_uri": "https://localhost:8080/",
     "height": 50
    },
    "colab_type": "code",
    "executionInfo": {
     "elapsed": 241,
     "status": "ok",
     "timestamp": 1527800854611,
     "user": {
      "displayName": "Alim Kumykov",
      "photoUrl": "//lh6.googleusercontent.com/-tCgcSerKYSs/AAAAAAAAAAI/AAAAAAAAAWo/FvjEn4POhDg/s50-c-k-no/photo.jpg",
      "userId": "110419530416477018311"
     },
     "user_tz": 240
    },
    "id": "uZTZQeRBg7e5",
    "outputId": "8fe444d0-f4c9-4402-ea3e-5eb935a70cb8"
   },
   "outputs": [
    {
     "name": "stdout",
     "output_type": "stream",
     "text": [
      "x_test: Test Data - (10000, 28, 28) - <class 'numpy.ndarray'>\n",
      "y_test: Test Labels - (10000,) - <class 'numpy.ndarray'>\n"
     ]
    }
   ],
   "source": [
    "# Testing set shape - 10,000 training data of image size of 28x28 and 10,000 train labels\n",
    "print ('x_test: Test Data - ' + str(x_test.shape) + \" - \" + str(type(x_test)))\n",
    "print ('y_test: Test Labels - ' + str(y_test.shape) + \" - \" + str(type(y_test)))"
   ]
  },
  {
   "cell_type": "markdown",
   "metadata": {
    "colab_type": "text",
    "id": "iH_5oN8Jt8R0"
   },
   "source": [
    "### 4. Defining text labels"
   ]
  },
  {
   "cell_type": "code",
   "execution_count": 13,
   "metadata": {
    "colab": {
     "autoexec": {
      "startup": false,
      "wait_interval": 0
     }
    },
    "colab_type": "code",
    "id": "VOvCMvsjrFEW"
   },
   "outputs": [],
   "source": [
    "# List of text labels\n",
    "fashion_mnist_labels = [\"T-shirt/top\",  # index 0\n",
    "                        \"Trouser\",      # index 1\n",
    "                        \"Pullover\",     # index 2 \n",
    "                        \"Dress\",        # index 3 \n",
    "                        \"Coat\",         # index 4\n",
    "                        \"Sandal\",       # index 5\n",
    "                        \"Shirt\",        # index 6 \n",
    "                        \"Sneaker\",      # index 7 \n",
    "                        \"Bag\",          # index 8 \n",
    "                        \"Ankle boot\"]   # index 9"
   ]
  },
  {
   "cell_type": "markdown",
   "metadata": {
    "colab_type": "text",
    "id": "YbnFGMWMuLQs"
   },
   "source": [
    "### 5. Visualizing the data"
   ]
  },
  {
   "cell_type": "code",
   "execution_count": 14,
   "metadata": {
    "colab": {
     "autoexec": {
      "startup": false,
      "wait_interval": 0
     },
     "base_uri": "https://localhost:8080/",
     "height": 398
    },
    "colab_type": "code",
    "executionInfo": {
     "elapsed": 465,
     "status": "ok",
     "timestamp": 1527800855483,
     "user": {
      "displayName": "Alim Kumykov",
      "photoUrl": "//lh6.googleusercontent.com/-tCgcSerKYSs/AAAAAAAAAAI/AAAAAAAAAWo/FvjEn4POhDg/s50-c-k-no/photo.jpg",
      "userId": "110419530416477018311"
     },
     "user_tz": 240
    },
    "id": "S7BRxWfevWUe",
    "outputId": "f28d6ea3-4204-4c5c-e836-210682aa988d"
   },
   "outputs": [
    {
     "name": "stdout",
     "output_type": "stream",
     "text": [
      "Image index: 600\n",
      "Label index: 0\n",
      "Label text: T-shirt/top\n"
     ]
    },
    {
     "data": {
      "image/png": "[encoded data removed]",
      "text/plain": [
       "<matplotlib.figure.Figure at 0x1c2211a860>"
      ]
     },
     "metadata": {},
     "output_type": "display_data"
    }
   ],
   "source": [
    "#Selecting a random image in our dataset by picking a number between 0 and 59,000 for image index\n",
    "img_index = 600\n",
    "\n",
    "# Getting the label for that image from \"y_train\" data set that contains labels, ranging from 0 to 9\n",
    "label_index = y_train[img_index]\n",
    "\n",
    "# Printing the label of the image\n",
    "print (\"Image index: \" + str(img_index))\n",
    "print (\"Label index: \" + str(label_index))\n",
    "print (\"Label text: \" + (fashion_mnist_labels[label_index]))\n",
    "\n",
    "# Showing the image itself from the training dataset\n",
    "plt.imshow(x_train[img_index]);"
   ]
  },
  {
   "cell_type": "markdown",
   "metadata": {
    "colab_type": "text",
    "id": "6NRKvzb4pi2l"
   },
   "source": [
    "### 6. Changing data type"
   ]
  },
  {
   "cell_type": "code",
   "execution_count": 15,
   "metadata": {
    "colab": {
     "autoexec": {
      "startup": false,
      "wait_interval": 0
     },
     "base_uri": "https://localhost:8080/",
     "height": 50
    },
    "colab_type": "code",
    "executionInfo": {
     "elapsed": 254,
     "status": "ok",
     "timestamp": 1527800855790,
     "user": {
      "displayName": "Alim Kumykov",
      "photoUrl": "//lh6.googleusercontent.com/-tCgcSerKYSs/AAAAAAAAAAI/AAAAAAAAAWo/FvjEn4POhDg/s50-c-k-no/photo.jpg",
      "userId": "110419530416477018311"
     },
     "user_tz": 240
    },
    "id": "EI00uW2Ul0US",
    "outputId": "b45913eb-931e-4e04-b83e-26b6016bba82"
   },
   "outputs": [
    {
     "name": "stdout",
     "output_type": "stream",
     "text": [
      "x_train - type: uint8\n",
      "x_test - type: uint8\n"
     ]
    }
   ],
   "source": [
    "# Original data type\n",
    "print (\"x_train - type: \" + str(x_train.dtype))\n",
    "print (\"x_test - type: \" + str(x_train.dtype))"
   ]
  },
  {
   "cell_type": "code",
   "execution_count": 16,
   "metadata": {
    "colab": {
     "autoexec": {
      "startup": false,
      "wait_interval": 0
     }
    },
    "colab_type": "code",
    "id": "4oMakzDMpliD"
   },
   "outputs": [],
   "source": [
    "# Converting data types to float and normalizing the data dimensions so that they are of approximately the same scale\n",
    "x_train = x_train.astype('float32') / 255\n",
    "x_test = x_test.astype('float32') / 255"
   ]
  },
  {
   "cell_type": "code",
   "execution_count": 17,
   "metadata": {
    "colab": {
     "autoexec": {
      "startup": false,
      "wait_interval": 0
     },
     "base_uri": "https://localhost:8080/",
     "height": 50
    },
    "colab_type": "code",
    "executionInfo": {
     "elapsed": 291,
     "status": "ok",
     "timestamp": 1527800856639,
     "user": {
      "displayName": "Alim Kumykov",
      "photoUrl": "//lh6.googleusercontent.com/-tCgcSerKYSs/AAAAAAAAAAI/AAAAAAAAAWo/FvjEn4POhDg/s50-c-k-no/photo.jpg",
      "userId": "110419530416477018311"
     },
     "user_tz": 240
    },
    "id": "Z1xnWkvElrtw",
    "outputId": "07dcecfd-17c8-4e8f-fad6-ad75d7daa14a"
   },
   "outputs": [
    {
     "name": "stdout",
     "output_type": "stream",
     "text": [
      "x_train - type: float32\n",
      "x_test - type: float32\n"
     ]
    }
   ],
   "source": [
    "# New data type\n",
    "print (\"x_train - type: \" + str(x_train.dtype))\n",
    "print (\"x_test - type: \" + str(x_train.dtype))"
   ]
  },
  {
   "cell_type": "markdown",
   "metadata": {
    "colab_type": "text",
    "id": "AdMLR4npoTdZ"
   },
   "source": [
    "### 7. Splitting the data into Train / Validation / Test data sets"
   ]
  },
  {
   "cell_type": "markdown",
   "metadata": {
    "colab_type": "text",
    "id": "QJj4PDDB209E"
   },
   "source": [
    "*   Training data - used for training the model\n",
    "*   Validation data - used for tuning the hyperparameters and evaluate the models\n",
    "*   Test data - used to test the model after the model has gone through initial vetting by the validation set."
   ]
  },
  {
   "cell_type": "code",
   "execution_count": 18,
   "metadata": {
    "colab": {
     "autoexec": {
      "startup": false,
      "wait_interval": 0
     }
    },
    "colab_type": "code",
    "id": "g77K3Pq83D0E"
   },
   "outputs": [],
   "source": [
    "# Breaking training data into train / validation sets. validation set = 5000, training set = 55000\n",
    "(x_train, x_valid) = x_train[5000:], x_train[:5000] \n",
    "(y_train, y_valid) = y_train[5000:], y_train[:5000]"
   ]
  },
  {
   "cell_type": "markdown",
   "metadata": {
    "colab_type": "text",
    "id": "kudPxWfntvMu"
   },
   "source": [
    "### 8. Reshaping the data"
   ]
  },
  {
   "cell_type": "code",
   "execution_count": 19,
   "metadata": {
    "colab": {
     "autoexec": {
      "startup": false,
      "wait_interval": 0
     }
    },
    "colab_type": "code",
    "id": "Nxez3z53t6tZ"
   },
   "outputs": [],
   "source": [
    "# Reshape input data from (28, 28) to (28, 28, 1). \n",
    "# Each input example is a 28x28 image set, each having 1 channel. 1 - Grayscale, 3 - RGB, etc. \n",
    "# That’s why the input_shape argument to the first Conv2D layer is (28, 28, 1), corresponding to height, width and number of channels respectively.\n",
    "w, h = 28, 28\n",
    "x_train = x_train.reshape(x_train.shape[0], w, h, 1)\n",
    "x_valid = x_valid.reshape(x_valid.shape[0], w, h, 1)\n",
    "x_test = x_test.reshape(x_test.shape[0], w, h, 1)"
   ]
  },
  {
   "cell_type": "markdown",
   "metadata": {
    "colab_type": "text",
    "id": "14TvHW18t-1g"
   },
   "source": [
    "### 9. One-hot encoding the labels"
   ]
  },
  {
   "cell_type": "markdown",
   "metadata": {
    "colab_type": "text",
    "id": "5ie7Uqxv1ZRV"
   },
   "source": [
    "Example:\n",
    "\n",
    "Total label categories - 10\n",
    "\n",
    "* Label text - Ankle boot\n",
    "* Label index - 9\n",
    "* Label index after one-hot encoding - [0,0,0,0,0,0,0,0,1,0]"
   ]
  },
  {
   "cell_type": "code",
   "execution_count": 20,
   "metadata": {
    "colab": {
     "autoexec": {
      "startup": false,
      "wait_interval": 0
     }
    },
    "colab_type": "code",
    "id": "adcG44LLt9XO"
   },
   "outputs": [],
   "source": [
    "# One-hot encode the labels\n",
    "y_train = tf.keras.utils.to_categorical(y_train, 10)\n",
    "y_valid = tf.keras.utils.to_categorical(y_valid, 10)\n",
    "y_test = tf.keras.utils.to_categorical(y_test, 10)"
   ]
  },
  {
   "cell_type": "markdown",
   "metadata": {
    "colab_type": "text",
    "id": "C33BlIRhuOWa"
   },
   "source": [
    "### 10. Displaying prepared data sets"
   ]
  },
  {
   "cell_type": "code",
   "execution_count": 21,
   "metadata": {
    "colab": {
     "autoexec": {
      "startup": false,
      "wait_interval": 0
     },
     "base_uri": "https://localhost:8080/",
     "height": 134
    },
    "colab_type": "code",
    "executionInfo": {
     "elapsed": 287,
     "status": "ok",
     "timestamp": 1527800858258,
     "user": {
      "displayName": "Alim Kumykov",
      "photoUrl": "//lh6.googleusercontent.com/-tCgcSerKYSs/AAAAAAAAAAI/AAAAAAAAAWo/FvjEn4POhDg/s50-c-k-no/photo.jpg",
      "userId": "110419530416477018311"
     },
     "user_tz": 240
    },
    "id": "0tYPFGX7uQdK",
    "outputId": "57f43370-f3e6-4d04-cc93-08d10db8a74e"
   },
   "outputs": [
    {
     "name": "stdout",
     "output_type": "stream",
     "text": [
      "x_train shape: (55000, 28, 28, 1) y_train shape: (55000, 10)\n",
      "x_train shape: (5000, 28, 28, 1) y_train shape: (5000, 10)\n",
      "x_train shape: (10000, 28, 28, 1) y_train shape: (10000, 10)\n",
      "\n",
      "Training set - 55000\n",
      "Validation set - 5000\n",
      "Testing set - 10000\n"
     ]
    }
   ],
   "source": [
    "# Printing data sets shape\n",
    "print(\"x_train shape:\", x_train.shape, \"y_train shape:\", y_train.shape)\n",
    "print(\"x_train shape:\", x_valid.shape, \"y_train shape:\", y_valid.shape)\n",
    "print(\"x_train shape:\", x_test.shape, \"y_train shape:\", y_test.shape)\n",
    "print ()\n",
    "\n",
    "# Printing the number of training, validation, and test datasets\n",
    "print('Training set - ' + str(x_train.shape[0]))\n",
    "print('Validation set - ' + str(x_valid.shape[0]))\n",
    "print('Testing set - ' + str(x_test.shape[0]))"
   ]
  },
  {
   "cell_type": "markdown",
   "metadata": {
    "colab_type": "text",
    "id": "PHqNkSEk-87u"
   },
   "source": [
    "### 11. Creating the model"
   ]
  },
  {
   "cell_type": "markdown",
   "metadata": {
    "colab_type": "text",
    "id": "jk0ZVAd_-_hj"
   },
   "source": [
    "To define a model we are using Keras Sequential model. Keras models are trained on Numpy arrays of input data and labels."
   ]
  },
  {
   "cell_type": "code",
   "execution_count": 22,
   "metadata": {
    "colab": {
     "autoexec": {
      "startup": false,
      "wait_interval": 0
     },
     "base_uri": "https://localhost:8080/",
     "height": 470
    },
    "colab_type": "code",
    "executionInfo": {
     "elapsed": 406,
     "status": "ok",
     "timestamp": 1527800858999,
     "user": {
      "displayName": "Alim Kumykov",
      "photoUrl": "//lh6.googleusercontent.com/-tCgcSerKYSs/AAAAAAAAAAI/AAAAAAAAAWo/FvjEn4POhDg/s50-c-k-no/photo.jpg",
      "userId": "110419530416477018311"
     },
     "user_tz": 240
    },
    "id": "ajW0do-N_JGc",
    "outputId": "b4c999e7-e8f4-4ce3-de65-908f46363292"
   },
   "outputs": [
    {
     "name": "stdout",
     "output_type": "stream",
     "text": [
      "_________________________________________________________________\n",
      "Layer (type)                 Output Shape              Param #   \n",
      "=================================================================\n",
      "conv2d_1 (Conv2D)            (None, 28, 28, 64)        320       \n",
      "_________________________________________________________________\n",
      "max_pooling2d_1 (MaxPooling2 (None, 14, 14, 64)        0         \n",
      "_________________________________________________________________\n",
      "dropout_1 (Dropout)          (None, 14, 14, 64)        0         \n",
      "_________________________________________________________________\n",
      "conv2d_2 (Conv2D)            (None, 14, 14, 32)        8224      \n",
      "_________________________________________________________________\n",
      "max_pooling2d_2 (MaxPooling2 (None, 7, 7, 32)          0         \n",
      "_________________________________________________________________\n",
      "dropout_2 (Dropout)          (None, 7, 7, 32)          0         \n",
      "_________________________________________________________________\n",
      "flatten_1 (Flatten)          (None, 1568)              0         \n",
      "_________________________________________________________________\n",
      "dense_1 (Dense)              (None, 256)               401664    \n",
      "_________________________________________________________________\n",
      "dropout_3 (Dropout)          (None, 256)               0         \n",
      "_________________________________________________________________\n",
      "dense_2 (Dense)              (None, 10)                2570      \n",
      "=================================================================\n",
      "Total params: 412,778\n",
      "Trainable params: 412,778\n",
      "Non-trainable params: 0\n",
      "_________________________________________________________________\n"
     ]
    }
   ],
   "source": [
    "#Selecting the model\n",
    "model = tf.keras.Sequential()\n",
    "\n",
    "# Defining the input shape in the first layer of the neural network\n",
    "model.add(tf.keras.layers.Conv2D(filters=64, kernel_size=2, padding='same', activation='relu', input_shape=(28,28,1))) \n",
    "model.add(tf.keras.layers.MaxPooling2D(pool_size=2))\n",
    "model.add(tf.keras.layers.Dropout(0.3))\n",
    "\n",
    "model.add(tf.keras.layers.Conv2D(filters=32, kernel_size=2, padding='same', activation='relu'))\n",
    "model.add(tf.keras.layers.MaxPooling2D(pool_size=2))\n",
    "model.add(tf.keras.layers.Dropout(0.3))\n",
    "\n",
    "model.add(tf.keras.layers.Flatten())\n",
    "model.add(tf.keras.layers.Dense(256, activation='relu'))\n",
    "model.add(tf.keras.layers.Dropout(0.5))\n",
    "model.add(tf.keras.layers.Dense(10, activation='softmax'))\n",
    "\n",
    "# Checking the model summary\n",
    "model.summary()"
   ]
  },
  {
   "cell_type": "markdown",
   "metadata": {
    "colab_type": "text",
    "id": "RHT03oJ9_Qx0"
   },
   "source": [
    "### 12. Compilation"
   ]
  },
  {
   "cell_type": "markdown",
   "metadata": {
    "colab_type": "text",
    "id": "MjrbebxF_XDi"
   },
   "source": [
    "Configuring the learning process with compile() API before training the model. It receives three arguments:\n",
    "\n",
    "*   An optimizer \n",
    "*   A loss function \n",
    "*   A list of metrics "
   ]
  },
  {
   "cell_type": "code",
   "execution_count": 23,
   "metadata": {
    "colab": {
     "autoexec": {
      "startup": false,
      "wait_interval": 0
     }
    },
    "colab_type": "code",
    "id": "3WIeHM5P_Z6n"
   },
   "outputs": [],
   "source": [
    "model.compile(loss='categorical_crossentropy',\n",
    "             optimizer='adam',\n",
    "             metrics=['accuracy'])"
   ]
  },
  {
   "cell_type": "markdown",
   "metadata": {
    "colab_type": "text",
    "id": "84O09V_d_dVe"
   },
   "source": [
    "### 13. Training the model"
   ]
  },
  {
   "cell_type": "markdown",
   "metadata": {
    "colab_type": "text",
    "id": "_E5s0Vnx_g_5"
   },
   "source": [
    "We will use the [ModelCheckpoint](https://keras.io/callbacks/#modelcheckpoint) API to save the model after every epoch. Set \"save_best_only = True\" to save only when the validation accuracy improves."
   ]
  },
  {
   "cell_type": "code",
   "execution_count": 24,
   "metadata": {
    "colab": {
     "autoexec": {
      "startup": false,
      "wait_interval": 0
     }
    },
    "colab_type": "code",
    "id": "YQ5VUFM48U1Q"
   },
   "outputs": [],
   "source": [
    "# Hyperparameters\n",
    "epochs = 20\n",
    "batch_size = 64"
   ]
  },
  {
   "cell_type": "code",
   "execution_count": 25,
   "metadata": {
    "colab": {
     "autoexec": {
      "startup": false,
      "wait_interval": 0
     },
     "base_uri": "https://localhost:8080/",
     "height": 1398
    },
    "colab_type": "code",
    "executionInfo": {
     "elapsed": 227725,
     "status": "ok",
     "timestamp": 1527801087621,
     "user": {
      "displayName": "Alim Kumykov",
      "photoUrl": "//lh6.googleusercontent.com/-tCgcSerKYSs/AAAAAAAAAAI/AAAAAAAAAWo/FvjEn4POhDg/s50-c-k-no/photo.jpg",
      "userId": "110419530416477018311"
     },
     "user_tz": 240
    },
    "id": "Bkk0yksS_cfA",
    "outputId": "c35f88d8-cc78-4094-a5a5-2ff4b305e9f9"
   },
   "outputs": [
    {
     "name": "stdout",
     "output_type": "stream",
     "text": [
      "Train on 55000 samples, validate on 5000 samples\n",
      "Epoch 1/20\n",
      "55000/55000 [==============================] - 104s 2ms/step - loss: 0.6059 - acc: 0.7786 - val_loss: 0.3733 - val_acc: 0.8650\n",
      "\n",
      "Epoch 00001: val_loss improved from inf to 0.37329, saving model to model.weights.best.hdf5\n",
      "Epoch 2/20\n",
      "55000/55000 [==============================] - 109s 2ms/step - loss: 0.4182 - acc: 0.8473 - val_loss: 0.3337 - val_acc: 0.8776\n",
      "\n",
      "Epoch 00002: val_loss improved from 0.37329 to 0.33372, saving model to model.weights.best.hdf5\n",
      "Epoch 3/20\n",
      "55000/55000 [==============================] - 114s 2ms/step - loss: 0.3722 - acc: 0.8637 - val_loss: 0.2983 - val_acc: 0.8934\n",
      "\n",
      "Epoch 00003: val_loss improved from 0.33372 to 0.29828, saving model to model.weights.best.hdf5\n",
      "Epoch 4/20\n",
      "55000/55000 [==============================] - 169s 3ms/step - loss: 0.3458 - acc: 0.8725 - val_loss: 0.2799 - val_acc: 0.8982\n",
      "\n",
      "Epoch 00004: val_loss improved from 0.29828 to 0.27987, saving model to model.weights.best.hdf5\n",
      "Epoch 5/20\n",
      "55000/55000 [==============================] - 109s 2ms/step - loss: 0.3260 - acc: 0.8814 - val_loss: 0.2669 - val_acc: 0.9012\n",
      "\n",
      "Epoch 00005: val_loss improved from 0.27987 to 0.26687, saving model to model.weights.best.hdf5\n",
      "Epoch 6/20\n",
      "55000/55000 [==============================] - 99s 2ms/step - loss: 0.3120 - acc: 0.8857 - val_loss: 0.2521 - val_acc: 0.9094\n",
      "\n",
      "Epoch 00006: val_loss improved from 0.26687 to 0.25208, saving model to model.weights.best.hdf5\n",
      "Epoch 7/20\n",
      "55000/55000 [==============================] - 93s 2ms/step - loss: 0.2983 - acc: 0.8881 - val_loss: 0.2448 - val_acc: 0.9100\n",
      "\n",
      "Epoch 00007: val_loss improved from 0.25208 to 0.24483, saving model to model.weights.best.hdf5\n",
      "Epoch 8/20\n",
      "55000/55000 [==============================] - 91s 2ms/step - loss: 0.2872 - acc: 0.8928 - val_loss: 0.2385 - val_acc: 0.9098\n",
      "\n",
      "Epoch 00008: val_loss improved from 0.24483 to 0.23851, saving model to model.weights.best.hdf5\n",
      "Epoch 9/20\n",
      "55000/55000 [==============================] - 95s 2ms/step - loss: 0.2782 - acc: 0.8968 - val_loss: 0.2295 - val_acc: 0.9174\n",
      "\n",
      "Epoch 00009: val_loss improved from 0.23851 to 0.22954, saving model to model.weights.best.hdf5\n",
      "Epoch 10/20\n",
      "55000/55000 [==============================] - 89s 2ms/step - loss: 0.2699 - acc: 0.8991 - val_loss: 0.2424 - val_acc: 0.9116\n",
      "\n",
      "Epoch 00010: val_loss did not improve from 0.22954\n",
      "Epoch 11/20\n",
      "55000/55000 [==============================] - 88s 2ms/step - loss: 0.2613 - acc: 0.9018 - val_loss: 0.2326 - val_acc: 0.9110\n",
      "\n",
      "Epoch 00011: val_loss did not improve from 0.22954\n",
      "Epoch 12/20\n",
      "55000/55000 [==============================] - 86s 2ms/step - loss: 0.2567 - acc: 0.9046 - val_loss: 0.2374 - val_acc: 0.9110\n",
      "\n",
      "Epoch 00012: val_loss did not improve from 0.22954\n",
      "Epoch 13/20\n",
      "55000/55000 [==============================] - 88s 2ms/step - loss: 0.2483 - acc: 0.9080 - val_loss: 0.2207 - val_acc: 0.9176\n",
      "\n",
      "Epoch 00013: val_loss improved from 0.22954 to 0.22071, saving model to model.weights.best.hdf5\n",
      "Epoch 14/20\n",
      "55000/55000 [==============================] - 105s 2ms/step - loss: 0.2461 - acc: 0.9096 - val_loss: 0.2334 - val_acc: 0.9118\n",
      "\n",
      "Epoch 00014: val_loss did not improve from 0.22071\n",
      "Epoch 15/20\n",
      "55000/55000 [==============================] - 97s 2ms/step - loss: 0.2402 - acc: 0.9105 - val_loss: 0.2347 - val_acc: 0.9146\n",
      "\n",
      "Epoch 00015: val_loss did not improve from 0.22071\n",
      "Epoch 16/20\n",
      "55000/55000 [==============================] - 158s 3ms/step - loss: 0.2369 - acc: 0.9126 - val_loss: 0.2217 - val_acc: 0.9170\n",
      "\n",
      "Epoch 00016: val_loss did not improve from 0.22071\n",
      "Epoch 17/20\n",
      "55000/55000 [==============================] - 171s 3ms/step - loss: 0.2316 - acc: 0.9136 - val_loss: 0.2126 - val_acc: 0.9194\n",
      "\n",
      "Epoch 00017: val_loss improved from 0.22071 to 0.21255, saving model to model.weights.best.hdf5\n",
      "Epoch 18/20\n",
      "55000/55000 [==============================] - 2349s 43ms/step - loss: 0.2287 - acc: 0.9146 - val_loss: 0.2076 - val_acc: 0.9232\n",
      "\n",
      "Epoch 00018: val_loss improved from 0.21255 to 0.20763, saving model to model.weights.best.hdf5\n",
      "Epoch 19/20\n",
      "55000/55000 [==============================] - 90s 2ms/step - loss: 0.2252 - acc: 0.9163 - val_loss: 0.2078 - val_acc: 0.9250\n",
      "\n",
      "Epoch 00019: val_loss did not improve from 0.20763\n",
      "Epoch 20/20\n",
      "55000/55000 [==============================] - 91s 2ms/step - loss: 0.2193 - acc: 0.9172 - val_loss: 0.2099 - val_acc: 0.9196\n",
      "\n",
      "Epoch 00020: val_loss did not improve from 0.20763\n"
     ]
    }
   ],
   "source": [
    "checkpointer = ModelCheckpoint(filepath='model.weights.best.hdf5', verbose = 1, save_best_only=True)\n",
    "\n",
    "start_time = time.time()\n",
    "training = model.fit(x_train,\n",
    "         y_train,\n",
    "         batch_size=batch_size,\n",
    "         epochs=epochs,\n",
    "         validation_data=(x_valid, y_valid),\n",
    "         callbacks=[checkpointer])\n",
    "\n",
    "training_time = time.time() - start_time"
   ]
  },
  {
   "cell_type": "code",
   "execution_count": 26,
   "metadata": {
    "colab": {
     "autoexec": {
      "startup": false,
      "wait_interval": 0
     },
     "base_uri": "https://localhost:8080/",
     "height": 752
    },
    "colab_type": "code",
    "executionInfo": {
     "elapsed": 895,
     "status": "ok",
     "timestamp": 1527801088582,
     "user": {
      "displayName": "Alim Kumykov",
      "photoUrl": "//lh6.googleusercontent.com/-tCgcSerKYSs/AAAAAAAAAAI/AAAAAAAAAWo/FvjEn4POhDg/s50-c-k-no/photo.jpg",
      "userId": "110419530416477018311"
     },
     "user_tz": 240
    },
    "id": "nf5oVNB97p3K",
    "outputId": "99b2558d-d8d6-4cdb-edae-7b9ba444bb91"
   },
   "outputs": [
    {
     "name": "stdout",
     "output_type": "stream",
     "text": [
      "Training 20 epochs in 73:15.9\n"
     ]
    },
    {
     "data": {
      "image/png": "[encoded data removed]",
      "text/plain": [
       "<matplotlib.figure.Figure at 0x1c34e34f28>"
      ]
     },
     "metadata": {},
     "output_type": "display_data"
    },
    {
     "data": {
      "image/png": "[encoded data removed]",
      "text/plain": [
       "<matplotlib.figure.Figure at 0x1c352ecd30>"
      ]
     },
     "metadata": {},
     "output_type": "display_data"
    }
   ],
   "source": [
    "mm = training_time // 60\n",
    "ss = training_time % 60\n",
    "print('Training {} epochs in {}:{}'.format(epochs, int(mm), round(ss, 1)))\n",
    "\n",
    "# show the loss and accuracy\n",
    "loss = training.history['loss']\n",
    "val_loss = training.history['val_loss']\n",
    "acc = training.history['acc']\n",
    "val_acc = training.history['val_acc']\n",
    "\n",
    "# loss plot\n",
    "tra = plt.plot(loss)\n",
    "val = plt.plot(val_loss, 'r')\n",
    "plt.xlabel('Epochs')\n",
    "plt.ylabel('Loss')\n",
    "plt.title('Loss')\n",
    "plt.legend([\"Training\", \"Validation\"])\n",
    "\n",
    "plt.show()\n",
    "\n",
    "# accuracy plot\n",
    "plt.plot(acc)\n",
    "plt.plot(val_acc, 'r')\n",
    "plt.xlabel('Epochs')\n",
    "plt.ylabel('Loss')\n",
    "plt.title('Accuracy')\n",
    "plt.legend(['Training', 'Validation'], loc=4)\n",
    "plt.show()"
   ]
  },
  {
   "cell_type": "markdown",
   "metadata": {
    "colab_type": "text",
    "id": "ghHmRo3f_yd7"
   },
   "source": [
    "### 14. Load Model with the best validation accuracy"
   ]
  },
  {
   "cell_type": "code",
   "execution_count": 27,
   "metadata": {
    "colab": {
     "autoexec": {
      "startup": false,
      "wait_interval": 0
     }
    },
    "colab_type": "code",
    "id": "GSNLFmNj_2Vy"
   },
   "outputs": [],
   "source": [
    "# Loading the weights with the best validation accuracy\n",
    "model.load_weights('model.weights.best.hdf5')"
   ]
  },
  {
   "cell_type": "markdown",
   "metadata": {
    "colab_type": "text",
    "id": "PuGAaShcACUY"
   },
   "source": [
    "### 15. Testing the accuracy"
   ]
  },
  {
   "cell_type": "code",
   "execution_count": 28,
   "metadata": {
    "colab": {
     "autoexec": {
      "startup": false,
      "wait_interval": 0
     },
     "base_uri": "https://localhost:8080/",
     "height": 50
    },
    "colab_type": "code",
    "executionInfo": {
     "elapsed": 1135,
     "status": "ok",
     "timestamp": 1527801258035,
     "user": {
      "displayName": "Alim Kumykov",
      "photoUrl": "//lh6.googleusercontent.com/-tCgcSerKYSs/AAAAAAAAAAI/AAAAAAAAAWo/FvjEn4POhDg/s50-c-k-no/photo.jpg",
      "userId": "110419530416477018311"
     },
     "user_tz": 240
    },
    "id": "MvS9L9W3AEkQ",
    "outputId": "291ba707-6290-4707-e17d-4da560ca9669"
   },
   "outputs": [
    {
     "name": "stdout",
     "output_type": "stream",
     "text": [
      "\n",
      " Test accuracy: 0.9193\n"
     ]
    }
   ],
   "source": [
    "# Evaluating the model on test set\n",
    "score = model.evaluate(x_test, y_test, verbose=0)\n",
    "\n",
    "# Printing test accuracy\n",
    "print('\\n', 'Test accuracy:', score[1])"
   ]
  },
  {
   "cell_type": "markdown",
   "metadata": {
    "colab_type": "text",
    "id": "2VITgAKoAKAn"
   },
   "source": [
    "### 16. Visualizing the prediction"
   ]
  },
  {
   "cell_type": "markdown",
   "metadata": {
    "colab_type": "text",
    "id": "D3rvNOokARR5"
   },
   "source": [
    "Visualizing the prediction using our model. First we get the predictions with the model from the test data.\n",
    "Then we print out 15 images from the test data set, and match the titles with the prediction. If the prediction matches the true label, the title will be green; otherwise it's displayed in red."
   ]
  },
  {
   "cell_type": "code",
   "execution_count": 29,
   "metadata": {
    "colab": {
     "autoexec": {
      "startup": false,
      "wait_interval": 0
     },
     "base_uri": "https://localhost:8080/",
     "height": 481
    },
    "colab_type": "code",
    "executionInfo": {
     "elapsed": 2194,
     "status": "ok",
     "timestamp": 1527801137921,
     "user": {
      "displayName": "Alim Kumykov",
      "photoUrl": "//lh6.googleusercontent.com/-tCgcSerKYSs/AAAAAAAAAAI/AAAAAAAAAWo/FvjEn4POhDg/s50-c-k-no/photo.jpg",
      "userId": "110419530416477018311"
     },
     "user_tz": 240
    },
    "id": "KAg93m1cAVCR",
    "outputId": "8526b066-ee67-46e6-f613-91bf0e01659e"
   },
   "outputs": [
    {
     "data": {
      "image/png": "[encoded data removed]",
      "text/plain": [
       "<matplotlib.figure.Figure at 0x1c352b4b00>"
      ]
     },
     "metadata": {},
     "output_type": "display_data"
    }
   ],
   "source": [
    "y_hat = model.predict(x_test)\n",
    "\n",
    "# Plot a random sample of 18 test images, their predicted labels and ground truth\n",
    "figure = plt.figure(figsize=(20, 8))\n",
    "for i, index in enumerate(np.random.choice(x_test.shape[0], size=18, replace=False)):\n",
    "    ax = figure.add_subplot(3, 6, i + 1, xticks=[], yticks=[])\n",
    "    # Display each image\n",
    "    ax.imshow(np.squeeze(x_test[index]))\n",
    "    predict_index = np.argmax(y_hat[index])\n",
    "    true_index = np.argmax(y_test[index])\n",
    "    # Set the title for each image\n",
    "    ax.set_title(\"{} ({})\".format(fashion_mnist_labels[predict_index], \n",
    "                                  fashion_mnist_labels[true_index]),\n",
    "                                  color=(\"blue\" if predict_index == true_index else \"red\"))"
   ]
  },
  {
   "cell_type": "code",
   "execution_count": null,
   "metadata": {
    "colab": {
     "autoexec": {
      "startup": false,
      "wait_interval": 0
     }
    },
    "colab_type": "code",
    "id": "ctDcFYgWC0H-"
   },
   "outputs": [],
   "source": []
  }
 ],
 "metadata": {
  "accelerator": "GPU",
  "colab": {
   "collapsed_sections": [],
   "default_view": {},
   "name": "GA-DS26-AK-FinalProject-20180531.ipynb",
   "provenance": [],
   "version": "0.3.2",
   "views": {}
  },
  "kernelspec": {
   "display_name": "Python 3",
   "language": "python",
   "name": "python3"
  },
  "language_info": {
   "codemirror_mode": {
    "name": "ipython",
    "version": 3
   },
   "file_extension": ".py",
   "mimetype": "text/x-python",
   "name": "python",
   "nbconvert_exporter": "python",
   "pygments_lexer": "ipython3",
   "version": "3.6.4"
  }
 },
 "nbformat": 4,
 "nbformat_minor": 2
}
